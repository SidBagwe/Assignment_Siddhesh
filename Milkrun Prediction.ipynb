{
 "cells": [
  {
   "cell_type": "markdown",
   "id": "3b7b1d8c",
   "metadata": {},
   "source": [
    "# Milkrun Prediction\n",
    "\n",
    "### Siddhesh Bagwe"
   ]
  },
  {
   "cell_type": "markdown",
   "id": "4ebe0564",
   "metadata": {},
   "source": [
    "### Importing the libraries"
   ]
  },
  {
   "cell_type": "code",
   "execution_count": 224,
   "id": "927b995a",
   "metadata": {},
   "outputs": [],
   "source": [
    "import pandas as pd\n",
    "import matplotlib.pyplot as plt\n",
    "import seaborn as sns\n",
    "from sklearn.model_selection import train_test_split\n",
    "from datetime import datetime\n",
    "from sklearn.linear_model import LinearRegression\n",
    "from sklearn import preprocessing\n",
    "from sklearn.metrics import mean_squared_error, mean_absolute_error, r2_score"
   ]
  },
  {
   "cell_type": "markdown",
   "id": "23750e58",
   "metadata": {},
   "source": [
    "### Exploratory Data Analysis"
   ]
  },
  {
   "cell_type": "code",
   "execution_count": 225,
   "id": "f5397490",
   "metadata": {},
   "outputs": [],
   "source": [
    "data = pd.read_excel(\"Local_Transit_ETA_Prediction_dataset_2023_09_28.xlsx\")"
   ]
  },
  {
   "cell_type": "code",
   "execution_count": 226,
   "id": "02e1cfa4",
   "metadata": {},
   "outputs": [
    {
     "name": "stdout",
     "output_type": "stream",
     "text": [
      "<class 'pandas.core.frame.DataFrame'>\n",
      "RangeIndex: 7917 entries, 0 to 7916\n",
      "Data columns (total 12 columns):\n",
      " #   Column                                Non-Null Count  Dtype  \n",
      "---  ------                                --------------  -----  \n",
      " 0   trip_id                               7917 non-null   float64\n",
      " 1   drop_sequence                         7917 non-null   float64\n",
      " 2   distance_calculated                   7887 non-null   float64\n",
      " 3   distance_covered_till_drop            7904 non-null   float64\n",
      " 4   origin_warehouse_code                 7917 non-null   object \n",
      " 5   destination_warehouse_code            7917 non-null   int64  \n",
      " 6   total_quantity                        7917 non-null   float64\n",
      " 7   actual_transit_time_from_cnf_minutes  7887 non-null   float64\n",
      " 8   trip_created_date                     7917 non-null   object \n",
      " 9   trip_start_time                       7907 non-null   object \n",
      " 10  geofence_in_time                      7897 non-null   object \n",
      " 11  geofence_out_time                     7854 non-null   object \n",
      "dtypes: float64(6), int64(1), object(5)\n",
      "memory usage: 742.3+ KB\n"
     ]
    }
   ],
   "source": [
    "data.info()"
   ]
  },
  {
   "cell_type": "code",
   "execution_count": 227,
   "id": "dc9c0deb",
   "metadata": {},
   "outputs": [],
   "source": [
    "data.dropna(inplace = True)"
   ]
  },
  {
   "cell_type": "code",
   "execution_count": 228,
   "id": "8bf2b22b",
   "metadata": {},
   "outputs": [
    {
     "data": {
      "text/html": [
       "<div>\n",
       "<style scoped>\n",
       "    .dataframe tbody tr th:only-of-type {\n",
       "        vertical-align: middle;\n",
       "    }\n",
       "\n",
       "    .dataframe tbody tr th {\n",
       "        vertical-align: top;\n",
       "    }\n",
       "\n",
       "    .dataframe thead th {\n",
       "        text-align: right;\n",
       "    }\n",
       "</style>\n",
       "<table border=\"1\" class=\"dataframe\">\n",
       "  <thead>\n",
       "    <tr style=\"text-align: right;\">\n",
       "      <th></th>\n",
       "      <th>trip_id</th>\n",
       "      <th>drop_sequence</th>\n",
       "      <th>distance_calculated</th>\n",
       "      <th>distance_covered_till_drop</th>\n",
       "      <th>destination_warehouse_code</th>\n",
       "      <th>total_quantity</th>\n",
       "      <th>actual_transit_time_from_cnf_minutes</th>\n",
       "    </tr>\n",
       "  </thead>\n",
       "  <tbody>\n",
       "    <tr>\n",
       "      <th>count</th>\n",
       "      <td>7833.000000</td>\n",
       "      <td>7833.000000</td>\n",
       "      <td>7833.000000</td>\n",
       "      <td>7833.000000</td>\n",
       "      <td>7.833000e+03</td>\n",
       "      <td>7833.000000</td>\n",
       "      <td>7833.000000</td>\n",
       "    </tr>\n",
       "    <tr>\n",
       "      <th>mean</th>\n",
       "      <td>166560.203370</td>\n",
       "      <td>3.935912</td>\n",
       "      <td>7.399974</td>\n",
       "      <td>22.507468</td>\n",
       "      <td>1.192512e+07</td>\n",
       "      <td>12.278054</td>\n",
       "      <td>117.625427</td>\n",
       "    </tr>\n",
       "    <tr>\n",
       "      <th>std</th>\n",
       "      <td>96330.696013</td>\n",
       "      <td>2.693147</td>\n",
       "      <td>67.016964</td>\n",
       "      <td>68.396420</td>\n",
       "      <td>5.005901e+06</td>\n",
       "      <td>14.892689</td>\n",
       "      <td>915.095086</td>\n",
       "    </tr>\n",
       "    <tr>\n",
       "      <th>min</th>\n",
       "      <td>23297.000000</td>\n",
       "      <td>1.000000</td>\n",
       "      <td>0.000000</td>\n",
       "      <td>0.000000</td>\n",
       "      <td>1.000269e+07</td>\n",
       "      <td>0.000000</td>\n",
       "      <td>-41.996967</td>\n",
       "    </tr>\n",
       "    <tr>\n",
       "      <th>25%</th>\n",
       "      <td>81049.000000</td>\n",
       "      <td>2.000000</td>\n",
       "      <td>2.000000</td>\n",
       "      <td>10.000000</td>\n",
       "      <td>1.000436e+07</td>\n",
       "      <td>4.000000</td>\n",
       "      <td>51.982067</td>\n",
       "    </tr>\n",
       "    <tr>\n",
       "      <th>50%</th>\n",
       "      <td>152518.000000</td>\n",
       "      <td>3.000000</td>\n",
       "      <td>4.000000</td>\n",
       "      <td>18.000000</td>\n",
       "      <td>1.001102e+07</td>\n",
       "      <td>8.000000</td>\n",
       "      <td>97.233333</td>\n",
       "    </tr>\n",
       "    <tr>\n",
       "      <th>75%</th>\n",
       "      <td>245308.000000</td>\n",
       "      <td>6.000000</td>\n",
       "      <td>8.000000</td>\n",
       "      <td>30.000000</td>\n",
       "      <td>1.001424e+07</td>\n",
       "      <td>15.000000</td>\n",
       "      <td>150.766667</td>\n",
       "    </tr>\n",
       "    <tr>\n",
       "      <th>max</th>\n",
       "      <td>356098.000000</td>\n",
       "      <td>14.000000</td>\n",
       "      <td>4181.000000</td>\n",
       "      <td>4192.000000</td>\n",
       "      <td>2.500388e+07</td>\n",
       "      <td>150.000000</td>\n",
       "      <td>80434.007183</td>\n",
       "    </tr>\n",
       "  </tbody>\n",
       "</table>\n",
       "</div>"
      ],
      "text/plain": [
       "             trip_id  drop_sequence  distance_calculated  \\\n",
       "count    7833.000000    7833.000000          7833.000000   \n",
       "mean   166560.203370       3.935912             7.399974   \n",
       "std     96330.696013       2.693147            67.016964   \n",
       "min     23297.000000       1.000000             0.000000   \n",
       "25%     81049.000000       2.000000             2.000000   \n",
       "50%    152518.000000       3.000000             4.000000   \n",
       "75%    245308.000000       6.000000             8.000000   \n",
       "max    356098.000000      14.000000          4181.000000   \n",
       "\n",
       "       distance_covered_till_drop  destination_warehouse_code  total_quantity  \\\n",
       "count                 7833.000000                7.833000e+03     7833.000000   \n",
       "mean                    22.507468                1.192512e+07       12.278054   \n",
       "std                     68.396420                5.005901e+06       14.892689   \n",
       "min                      0.000000                1.000269e+07        0.000000   \n",
       "25%                     10.000000                1.000436e+07        4.000000   \n",
       "50%                     18.000000                1.001102e+07        8.000000   \n",
       "75%                     30.000000                1.001424e+07       15.000000   \n",
       "max                   4192.000000                2.500388e+07      150.000000   \n",
       "\n",
       "       actual_transit_time_from_cnf_minutes  \n",
       "count                           7833.000000  \n",
       "mean                             117.625427  \n",
       "std                              915.095086  \n",
       "min                              -41.996967  \n",
       "25%                               51.982067  \n",
       "50%                               97.233333  \n",
       "75%                              150.766667  \n",
       "max                            80434.007183  "
      ]
     },
     "execution_count": 228,
     "metadata": {},
     "output_type": "execute_result"
    }
   ],
   "source": [
    "data.describe()"
   ]
  },
  {
   "cell_type": "code",
   "execution_count": 229,
   "id": "b3743d4c",
   "metadata": {},
   "outputs": [
    {
     "data": {
      "text/plain": [
       "trip_id                                 1805\n",
       "drop_sequence                             14\n",
       "distance_calculated                       31\n",
       "distance_covered_till_drop                97\n",
       "origin_warehouse_code                      1\n",
       "destination_warehouse_code               136\n",
       "total_quantity                           113\n",
       "actual_transit_time_from_cnf_minutes    7578\n",
       "trip_created_date                        206\n",
       "trip_start_time                         1804\n",
       "geofence_in_time                        7620\n",
       "geofence_out_time                       7621\n",
       "dtype: int64"
      ]
     },
     "execution_count": 229,
     "metadata": {},
     "output_type": "execute_result"
    }
   ],
   "source": [
    "data.nunique()"
   ]
  },
  {
   "cell_type": "code",
   "execution_count": 230,
   "id": "ff7c10d1",
   "metadata": {},
   "outputs": [
    {
     "data": {
      "text/plain": [
       "(array([3026., 1050.,  914., 1413.,  507.,  364.,  401.,   91.,   43.,\n",
       "          24.]),\n",
       " array([ 1. ,  2.3,  3.6,  4.9,  6.2,  7.5,  8.8, 10.1, 11.4, 12.7, 14. ]),\n",
       " <BarContainer object of 10 artists>)"
      ]
     },
     "execution_count": 230,
     "metadata": {},
     "output_type": "execute_result"
    },
    {
     "data": {
      "image/png": "[encoded data removed]",
      "text/plain": [
       "<Figure size 432x288 with 1 Axes>"
      ]
     },
     "metadata": {
      "needs_background": "light"
     },
     "output_type": "display_data"
    }
   ],
   "source": [
    "plt.hist(data['drop_sequence'])"
   ]
  },
  {
   "cell_type": "code",
   "execution_count": 231,
   "id": "b2a82144",
   "metadata": {},
   "outputs": [
    {
     "data": {
      "text/plain": [
       "<AxesSubplot:>"
      ]
     },
     "execution_count": 231,
     "metadata": {},
     "output_type": "execute_result"
    },
    {
     "data": {
      "image/png": "[encoded data removed]",
      "text/plain": [
       "<Figure size 432x288 with 2 Axes>"
      ]
     },
     "metadata": {
      "needs_background": "light"
     },
     "output_type": "display_data"
    }
   ],
   "source": [
    "sns.heatmap(data.corr(),annot = True, cmap = 'Blues')"
   ]
  },
  {
   "cell_type": "code",
   "execution_count": 232,
   "id": "e748c0a8",
   "metadata": {},
   "outputs": [
    {
     "data": {
      "text/plain": [
       "0       False\n",
       "1       False\n",
       "2       False\n",
       "3       False\n",
       "4       False\n",
       "        ...  \n",
       "7912    False\n",
       "7913    False\n",
       "7914    False\n",
       "7915    False\n",
       "7916    False\n",
       "Length: 7833, dtype: bool"
      ]
     },
     "execution_count": 232,
     "metadata": {},
     "output_type": "execute_result"
    }
   ],
   "source": [
    "data.duplicated()"
   ]
  },
  {
   "cell_type": "code",
   "execution_count": 233,
   "id": "487beed7",
   "metadata": {},
   "outputs": [
    {
     "data": {
      "text/html": [
       "<div>\n",
       "<style scoped>\n",
       "    .dataframe tbody tr th:only-of-type {\n",
       "        vertical-align: middle;\n",
       "    }\n",
       "\n",
       "    .dataframe tbody tr th {\n",
       "        vertical-align: top;\n",
       "    }\n",
       "\n",
       "    .dataframe thead th {\n",
       "        text-align: right;\n",
       "    }\n",
       "</style>\n",
       "<table border=\"1\" class=\"dataframe\">\n",
       "  <thead>\n",
       "    <tr style=\"text-align: right;\">\n",
       "      <th></th>\n",
       "      <th>trip_id</th>\n",
       "      <th>drop_sequence</th>\n",
       "      <th>distance_calculated</th>\n",
       "      <th>distance_covered_till_drop</th>\n",
       "      <th>origin_warehouse_code</th>\n",
       "      <th>destination_warehouse_code</th>\n",
       "      <th>total_quantity</th>\n",
       "      <th>actual_transit_time_from_cnf_minutes</th>\n",
       "      <th>trip_created_date</th>\n",
       "      <th>trip_start_time</th>\n",
       "      <th>geofence_in_time</th>\n",
       "      <th>geofence_out_time</th>\n",
       "    </tr>\n",
       "  </thead>\n",
       "  <tbody>\n",
       "    <tr>\n",
       "      <th>0</th>\n",
       "      <td>23297.0</td>\n",
       "      <td>1.0</td>\n",
       "      <td>11.0</td>\n",
       "      <td>11.0</td>\n",
       "      <td>C220</td>\n",
       "      <td>25001891</td>\n",
       "      <td>2.0</td>\n",
       "      <td>12.875800</td>\n",
       "      <td>2023-02-01</td>\n",
       "      <td>2023-02-01T10:50:06.452</td>\n",
       "      <td>2023-02-01T11:02:59</td>\n",
       "      <td>2023-02-01T11:15:23</td>\n",
       "    </tr>\n",
       "    <tr>\n",
       "      <th>1</th>\n",
       "      <td>23297.0</td>\n",
       "      <td>2.0</td>\n",
       "      <td>16.0</td>\n",
       "      <td>27.0</td>\n",
       "      <td>C220</td>\n",
       "      <td>10015094</td>\n",
       "      <td>30.0</td>\n",
       "      <td>92.809133</td>\n",
       "      <td>2023-02-01</td>\n",
       "      <td>2023-02-01T10:50:06.452</td>\n",
       "      <td>2023-02-01T12:22:55</td>\n",
       "      <td>2023-02-01T12:36:09.980</td>\n",
       "    </tr>\n",
       "    <tr>\n",
       "      <th>2</th>\n",
       "      <td>23298.0</td>\n",
       "      <td>1.0</td>\n",
       "      <td>14.0</td>\n",
       "      <td>14.0</td>\n",
       "      <td>C220</td>\n",
       "      <td>10003303</td>\n",
       "      <td>65.0</td>\n",
       "      <td>41.280700</td>\n",
       "      <td>2023-02-01</td>\n",
       "      <td>2023-02-01T10:52:08.158</td>\n",
       "      <td>2023-02-01T11:33:25</td>\n",
       "      <td>2023-02-01T11:56:15.964</td>\n",
       "    </tr>\n",
       "    <tr>\n",
       "      <th>3</th>\n",
       "      <td>23372.0</td>\n",
       "      <td>1.0</td>\n",
       "      <td>14.0</td>\n",
       "      <td>14.0</td>\n",
       "      <td>C220</td>\n",
       "      <td>10003303</td>\n",
       "      <td>100.0</td>\n",
       "      <td>17.953983</td>\n",
       "      <td>2023-02-01</td>\n",
       "      <td>2023-02-01T11:26:10.013</td>\n",
       "      <td>2023-02-01T11:44:07.252</td>\n",
       "      <td>2023-02-01T12:06:06.993</td>\n",
       "    </tr>\n",
       "    <tr>\n",
       "      <th>4</th>\n",
       "      <td>23595.0</td>\n",
       "      <td>1.0</td>\n",
       "      <td>18.0</td>\n",
       "      <td>18.0</td>\n",
       "      <td>C220</td>\n",
       "      <td>10013469</td>\n",
       "      <td>24.0</td>\n",
       "      <td>63.004467</td>\n",
       "      <td>2023-02-01</td>\n",
       "      <td>2023-02-01T13:18:07.732</td>\n",
       "      <td>2023-02-01T14:21:08</td>\n",
       "      <td>2023-02-01T14:35:58</td>\n",
       "    </tr>\n",
       "  </tbody>\n",
       "</table>\n",
       "</div>"
      ],
      "text/plain": [
       "   trip_id  drop_sequence  distance_calculated  distance_covered_till_drop  \\\n",
       "0  23297.0            1.0                 11.0                        11.0   \n",
       "1  23297.0            2.0                 16.0                        27.0   \n",
       "2  23298.0            1.0                 14.0                        14.0   \n",
       "3  23372.0            1.0                 14.0                        14.0   \n",
       "4  23595.0            1.0                 18.0                        18.0   \n",
       "\n",
       "  origin_warehouse_code  destination_warehouse_code  total_quantity  \\\n",
       "0                  C220                    25001891             2.0   \n",
       "1                  C220                    10015094            30.0   \n",
       "2                  C220                    10003303            65.0   \n",
       "3                  C220                    10003303           100.0   \n",
       "4                  C220                    10013469            24.0   \n",
       "\n",
       "   actual_transit_time_from_cnf_minutes trip_created_date  \\\n",
       "0                             12.875800        2023-02-01   \n",
       "1                             92.809133        2023-02-01   \n",
       "2                             41.280700        2023-02-01   \n",
       "3                             17.953983        2023-02-01   \n",
       "4                             63.004467        2023-02-01   \n",
       "\n",
       "           trip_start_time         geofence_in_time        geofence_out_time  \n",
       "0  2023-02-01T10:50:06.452      2023-02-01T11:02:59      2023-02-01T11:15:23  \n",
       "1  2023-02-01T10:50:06.452      2023-02-01T12:22:55  2023-02-01T12:36:09.980  \n",
       "2  2023-02-01T10:52:08.158      2023-02-01T11:33:25  2023-02-01T11:56:15.964  \n",
       "3  2023-02-01T11:26:10.013  2023-02-01T11:44:07.252  2023-02-01T12:06:06.993  \n",
       "4  2023-02-01T13:18:07.732      2023-02-01T14:21:08      2023-02-01T14:35:58  "
      ]
     },
     "execution_count": 233,
     "metadata": {},
     "output_type": "execute_result"
    }
   ],
   "source": [
    "data.head()"
   ]
  },
  {
   "cell_type": "markdown",
   "id": "010d23c9",
   "metadata": {},
   "source": [
    "### Feature Engineering"
   ]
  },
  {
   "cell_type": "code",
   "execution_count": 234,
   "id": "a26cb13b",
   "metadata": {},
   "outputs": [],
   "source": [
    "time = pd.to_datetime(data['trip_start_time'])\n",
    "data['trip_start_time']= time.dt.time"
   ]
  },
  {
   "cell_type": "code",
   "execution_count": 235,
   "id": "9b901817",
   "metadata": {},
   "outputs": [],
   "source": [
    "time1 = pd.to_datetime(data['geofence_in_time'])\n",
    "data['geofence_in_time']= time1.dt.time"
   ]
  },
  {
   "cell_type": "code",
   "execution_count": 236,
   "id": "f769bd1b",
   "metadata": {},
   "outputs": [],
   "source": [
    "time2 = pd.to_datetime(data['geofence_out_time'])\n",
    "data['geofence_out_time']= time2.dt.time"
   ]
  },
  {
   "cell_type": "code",
   "execution_count": 237,
   "id": "ef38f2a1",
   "metadata": {},
   "outputs": [
    {
     "data": {
      "text/html": [
       "<div>\n",
       "<style scoped>\n",
       "    .dataframe tbody tr th:only-of-type {\n",
       "        vertical-align: middle;\n",
       "    }\n",
       "\n",
       "    .dataframe tbody tr th {\n",
       "        vertical-align: top;\n",
       "    }\n",
       "\n",
       "    .dataframe thead th {\n",
       "        text-align: right;\n",
       "    }\n",
       "</style>\n",
       "<table border=\"1\" class=\"dataframe\">\n",
       "  <thead>\n",
       "    <tr style=\"text-align: right;\">\n",
       "      <th></th>\n",
       "      <th>trip_id</th>\n",
       "      <th>drop_sequence</th>\n",
       "      <th>distance_calculated</th>\n",
       "      <th>distance_covered_till_drop</th>\n",
       "      <th>origin_warehouse_code</th>\n",
       "      <th>destination_warehouse_code</th>\n",
       "      <th>total_quantity</th>\n",
       "      <th>actual_transit_time_from_cnf_minutes</th>\n",
       "      <th>trip_created_date</th>\n",
       "      <th>trip_start_time</th>\n",
       "      <th>geofence_in_time</th>\n",
       "      <th>geofence_out_time</th>\n",
       "    </tr>\n",
       "  </thead>\n",
       "  <tbody>\n",
       "    <tr>\n",
       "      <th>0</th>\n",
       "      <td>23297.0</td>\n",
       "      <td>1.0</td>\n",
       "      <td>11.0</td>\n",
       "      <td>11.0</td>\n",
       "      <td>C220</td>\n",
       "      <td>25001891</td>\n",
       "      <td>2.0</td>\n",
       "      <td>12.875800</td>\n",
       "      <td>2023-02-01</td>\n",
       "      <td>10:50:06.452000</td>\n",
       "      <td>11:02:59</td>\n",
       "      <td>11:15:23</td>\n",
       "    </tr>\n",
       "    <tr>\n",
       "      <th>1</th>\n",
       "      <td>23297.0</td>\n",
       "      <td>2.0</td>\n",
       "      <td>16.0</td>\n",
       "      <td>27.0</td>\n",
       "      <td>C220</td>\n",
       "      <td>10015094</td>\n",
       "      <td>30.0</td>\n",
       "      <td>92.809133</td>\n",
       "      <td>2023-02-01</td>\n",
       "      <td>10:50:06.452000</td>\n",
       "      <td>12:22:55</td>\n",
       "      <td>12:36:09.980000</td>\n",
       "    </tr>\n",
       "    <tr>\n",
       "      <th>2</th>\n",
       "      <td>23298.0</td>\n",
       "      <td>1.0</td>\n",
       "      <td>14.0</td>\n",
       "      <td>14.0</td>\n",
       "      <td>C220</td>\n",
       "      <td>10003303</td>\n",
       "      <td>65.0</td>\n",
       "      <td>41.280700</td>\n",
       "      <td>2023-02-01</td>\n",
       "      <td>10:52:08.158000</td>\n",
       "      <td>11:33:25</td>\n",
       "      <td>11:56:15.964000</td>\n",
       "    </tr>\n",
       "    <tr>\n",
       "      <th>3</th>\n",
       "      <td>23372.0</td>\n",
       "      <td>1.0</td>\n",
       "      <td>14.0</td>\n",
       "      <td>14.0</td>\n",
       "      <td>C220</td>\n",
       "      <td>10003303</td>\n",
       "      <td>100.0</td>\n",
       "      <td>17.953983</td>\n",
       "      <td>2023-02-01</td>\n",
       "      <td>11:26:10.013000</td>\n",
       "      <td>11:44:07.252000</td>\n",
       "      <td>12:06:06.993000</td>\n",
       "    </tr>\n",
       "    <tr>\n",
       "      <th>4</th>\n",
       "      <td>23595.0</td>\n",
       "      <td>1.0</td>\n",
       "      <td>18.0</td>\n",
       "      <td>18.0</td>\n",
       "      <td>C220</td>\n",
       "      <td>10013469</td>\n",
       "      <td>24.0</td>\n",
       "      <td>63.004467</td>\n",
       "      <td>2023-02-01</td>\n",
       "      <td>13:18:07.732000</td>\n",
       "      <td>14:21:08</td>\n",
       "      <td>14:35:58</td>\n",
       "    </tr>\n",
       "  </tbody>\n",
       "</table>\n",
       "</div>"
      ],
      "text/plain": [
       "   trip_id  drop_sequence  distance_calculated  distance_covered_till_drop  \\\n",
       "0  23297.0            1.0                 11.0                        11.0   \n",
       "1  23297.0            2.0                 16.0                        27.0   \n",
       "2  23298.0            1.0                 14.0                        14.0   \n",
       "3  23372.0            1.0                 14.0                        14.0   \n",
       "4  23595.0            1.0                 18.0                        18.0   \n",
       "\n",
       "  origin_warehouse_code  destination_warehouse_code  total_quantity  \\\n",
       "0                  C220                    25001891             2.0   \n",
       "1                  C220                    10015094            30.0   \n",
       "2                  C220                    10003303            65.0   \n",
       "3                  C220                    10003303           100.0   \n",
       "4                  C220                    10013469            24.0   \n",
       "\n",
       "   actual_transit_time_from_cnf_minutes trip_created_date  trip_start_time  \\\n",
       "0                             12.875800        2023-02-01  10:50:06.452000   \n",
       "1                             92.809133        2023-02-01  10:50:06.452000   \n",
       "2                             41.280700        2023-02-01  10:52:08.158000   \n",
       "3                             17.953983        2023-02-01  11:26:10.013000   \n",
       "4                             63.004467        2023-02-01  13:18:07.732000   \n",
       "\n",
       "  geofence_in_time geofence_out_time  \n",
       "0         11:02:59          11:15:23  \n",
       "1         12:22:55   12:36:09.980000  \n",
       "2         11:33:25   11:56:15.964000  \n",
       "3  11:44:07.252000   12:06:06.993000  \n",
       "4         14:21:08          14:35:58  "
      ]
     },
     "execution_count": 237,
     "metadata": {},
     "output_type": "execute_result"
    }
   ],
   "source": [
    "data.head()"
   ]
  },
  {
   "cell_type": "code",
   "execution_count": 238,
   "id": "2c091519",
   "metadata": {},
   "outputs": [],
   "source": [
    "time_difference = time1 - time\n",
    "total_seconds = time_difference.dt.total_seconds()\n",
    "total_minutes = total_seconds / 60"
   ]
  },
  {
   "cell_type": "code",
   "execution_count": 239,
   "id": "df34de1c",
   "metadata": {},
   "outputs": [],
   "source": [
    "data['time'] = total_minutes"
   ]
  },
  {
   "cell_type": "code",
   "execution_count": 240,
   "id": "496cd83e",
   "metadata": {},
   "outputs": [],
   "source": [
    "data['destination_warehouse_code'] = pd.factorize(data['destination_warehouse_code'])[0]"
   ]
  },
  {
   "cell_type": "code",
   "execution_count": 241,
   "id": "75c21561",
   "metadata": {},
   "outputs": [
    {
     "data": {
      "text/plain": [
       "actual_transit_time_from_cnf_minutes    1.000000\n",
       "time                                    1.000000\n",
       "drop_sequence                           0.092645\n",
       "total_quantity                          0.024828\n",
       "distance_covered_till_drop              0.017179\n",
       "trip_id                                 0.004941\n",
       "destination_warehouse_code              0.000824\n",
       "distance_calculated                     0.000028\n",
       "Name: actual_transit_time_from_cnf_minutes, dtype: float64"
      ]
     },
     "execution_count": 241,
     "metadata": {},
     "output_type": "execute_result"
    }
   ],
   "source": [
    "matrix = data.corr()\n",
    "matrix['actual_transit_time_from_cnf_minutes'].abs().sort_values(ascending=False)"
   ]
  },
  {
   "cell_type": "markdown",
   "id": "811470c4",
   "metadata": {},
   "source": [
    "### Model Building"
   ]
  },
  {
   "cell_type": "code",
   "execution_count": 242,
   "id": "3f2a1561",
   "metadata": {},
   "outputs": [],
   "source": [
    "X = data[['drop_sequence','distance_covered_till_drop','total_quantity','destination_warehouse_code','time']]\n",
    "X= preprocessing.scale(X)\n",
    "Y = data[['actual_transit_time_from_cnf_minutes']]"
   ]
  },
  {
   "cell_type": "code",
   "execution_count": 243,
   "id": "1bcc8bb4",
   "metadata": {},
   "outputs": [],
   "source": [
    "X_train, X_test, y_train, y_test = train_test_split(X, Y, test_size=0.2, random_state=42)"
   ]
  },
  {
   "cell_type": "code",
   "execution_count": 244,
   "id": "495cb75e",
   "metadata": {},
   "outputs": [
    {
     "data": {
      "text/plain": [
       "LinearRegression()"
      ]
     },
     "execution_count": 244,
     "metadata": {},
     "output_type": "execute_result"
    }
   ],
   "source": [
    "model = LinearRegression()\n",
    "model.fit(X_train, y_train)"
   ]
  },
  {
   "cell_type": "code",
   "execution_count": 245,
   "id": "0c1134ac",
   "metadata": {},
   "outputs": [],
   "source": [
    "pred = model.predict(X_test)\n"
   ]
  },
  {
   "cell_type": "markdown",
   "id": "f67d0112",
   "metadata": {},
   "source": [
    "### Accuracy"
   ]
  },
  {
   "cell_type": "code",
   "execution_count": 246,
   "id": "ef173346",
   "metadata": {},
   "outputs": [],
   "source": [
    "mse = mean_squared_error(y_test, pred)\n",
    "mae = mean_absolute_error(y_test, pred)\n",
    "r2 = r2_score(y_test, pred)"
   ]
  },
  {
   "cell_type": "code",
   "execution_count": 247,
   "id": "c6c68294",
   "metadata": {},
   "outputs": [
    {
     "name": "stdout",
     "output_type": "stream",
     "text": [
      "Mean Squared Error for ETA prediction: 4.347745643612282e-26\n",
      "Mean Absolute Error for ETA prediction: 1.6935834293851217e-13\n",
      "R-squared (R^2) for ETA prediction: 1.0\n"
     ]
    }
   ],
   "source": [
    "print(f\"Mean Squared Error for ETA prediction: {mse}\")\n",
    "print(f\"Mean Absolute Error for ETA prediction: {mae}\")\n",
    "print(f\"R-squared (R^2) for ETA prediction: {r2}\")"
   ]
  },
  {
   "cell_type": "code",
   "execution_count": null,
   "id": "058ee164",
   "metadata": {},
   "outputs": [],
   "source": []
  }
 ],
 "metadata": {
  "kernelspec": {
   "display_name": "Python 3 (ipykernel)",
   "language": "python",
   "name": "python3"
  },
  "language_info": {
   "codemirror_mode": {
    "name": "ipython",
    "version": 3
   },
   "file_extension": ".py",
   "mimetype": "text/x-python",
   "name": "python",
   "nbconvert_exporter": "python",
   "pygments_lexer": "ipython3",
   "version": "3.9.12"
  }
 },
 "nbformat": 4,
 "nbformat_minor": 5
}
